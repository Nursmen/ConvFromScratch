{
 "cells": [
  {
   "attachments": {},
   "cell_type": "markdown",
   "metadata": {},
   "source": [
    "<img src='justtemp (3).png' width='75%'>"
   ]
  },
  {
   "cell_type": "code",
   "execution_count": 111,
   "metadata": {},
   "outputs": [],
   "source": [
    "import numpy as np"
   ]
  },
  {
   "cell_type": "code",
   "execution_count": 112,
   "metadata": {},
   "outputs": [
    {
     "data": {
      "text/plain": [
       "(array([[[1., 1., 0., 0., 0.],\n",
       "         [1., 1., 0., 0., 0.],\n",
       "         [0., 0., 0., 0., 0.],\n",
       "         [0., 0., 0., 0., 0.],\n",
       "         [0., 0., 0., 0., 0.]]]),\n",
       " 1.0)"
      ]
     },
     "execution_count": 112,
     "metadata": {},
     "output_type": "execute_result"
    }
   ],
   "source": [
    "num_samples = 10\n",
    "\n",
    "image_height = 5\n",
    "image_width = 5\n",
    "\n",
    "positions = [\n",
    "    (0, 0),  \n",
    "    (0, 3),  \n",
    "    (3, 0),  \n",
    "    (3, 3)   \n",
    "]\n",
    "\n",
    "x = np.zeros((num_samples, 1,image_height, image_width))\n",
    "y = np.zeros((num_samples))\n",
    "\n",
    "for i in range(num_samples):\n",
    "    pos = positions[i % len(positions)]\n",
    "    x[i,0, pos[0]:pos[0]+2, pos[1]:pos[1]+2] = 1\n",
    "    \n",
    "    y[i] = 1 if pos[0] == 0 else 0\n",
    "\n",
    "x[0], y[0]"
   ]
  },
  {
   "cell_type": "code",
   "execution_count": 113,
   "metadata": {},
   "outputs": [
    {
     "name": "stdout",
     "output_type": "stream",
     "text": [
      "num_img, channel, height, width\n"
     ]
    },
    {
     "data": {
      "text/plain": [
       "(10, 1, 5, 5)"
      ]
     },
     "execution_count": 113,
     "metadata": {},
     "output_type": "execute_result"
    }
   ],
   "source": [
    "x =x.reshape(x.shape[0], 1, 5, 5)\n",
    "print('num_img, channel, height, width')\n",
    "x.shape"
   ]
  },
  {
   "cell_type": "code",
   "execution_count": 114,
   "metadata": {},
   "outputs": [
    {
     "name": "stdout",
     "output_type": "stream",
     "text": [
      "num_img\n"
     ]
    },
    {
     "data": {
      "text/plain": [
       "(10,)"
      ]
     },
     "execution_count": 114,
     "metadata": {},
     "output_type": "execute_result"
    }
   ],
   "source": [
    "print('num_img')\n",
    "y.shape"
   ]
  },
  {
   "cell_type": "code",
   "execution_count": 115,
   "metadata": {},
   "outputs": [
    {
     "name": "stdout",
     "output_type": "stream",
     "text": [
      "[[[ 0.36180609  0.93718509  0.51518255]\n",
      "  [-0.4477891  -0.63154557  0.57045719]\n",
      "  [ 0.06009869  1.16044147 -0.27702692]]]\n",
      "[0.22662933]\n"
     ]
    }
   ],
   "source": [
    "weights = np.random.randn(1, 3, 3)\n",
    "\n",
    "bias = np.random.randn(1)\n",
    "\n",
    "print(weights)\n",
    "print(bias)"
   ]
  },
  {
   "attachments": {},
   "cell_type": "markdown",
   "metadata": {},
   "source": [
    "$out = \\cfrac{in - filter + 2padding}{stride} + 1$"
   ]
  },
  {
   "cell_type": "code",
   "execution_count": 116,
   "metadata": {},
   "outputs": [],
   "source": [
    "def conv(x, weights, bias, padding=0):\n",
    "\n",
    "    num_filters = weights.shape[0]\n",
    "\n",
    "    out = x.shape[2] - weights.shape[2] + 2 * padding + 1\n",
    "    z = np.zeros((x.shape[0], num_filters, out, out))\n",
    "\n",
    "    x= np.pad(x, ((0, 0), (0, 0), (padding, padding), (padding, padding)), mode='constant', constant_values=0)\n",
    "\n",
    "    for n in range(x.shape[0]):\n",
    "\n",
    "        for r in range(num_filters):\n",
    "            for k in range(x.shape[1]):\n",
    "\n",
    "                for h in range(x.shape[2]):\n",
    "\n",
    "                    if h+weights.shape[2] > x.shape[2]:\n",
    "                        continue\n",
    "                    \n",
    "                    for w in range(x.shape[3]):\n",
    "\n",
    "                        if w+weights.shape[2] > x.shape[3]:\n",
    "                            continue\n",
    "\n",
    "                        x_crop = x[n, k, h:h+weights.shape[2], w:w+weights.shape[2]]\n",
    "\n",
    "                        z[n, r, h, w] += np.sum(x_crop * weights[r, k]) + bias[r]\n",
    "\n",
    "    return z"
   ]
  },
  {
   "attachments": {},
   "cell_type": "markdown",
   "metadata": {},
   "source": [
    "```\n",
    "Input image\n",
    "    ||\n",
    "    \\/\n",
    "Conv(3,3) x1\n",
    "    ||\n",
    "    \\/\n",
    "Full conected\n",
    "```"
   ]
  },
  {
   "cell_type": "code",
   "execution_count": 117,
   "metadata": {},
   "outputs": [],
   "source": [
    "def fc(x, weights, bias):\n",
    "    z = np.dot(weights,x.T) + bias\n",
    "    return z"
   ]
  },
  {
   "cell_type": "code",
   "execution_count": 118,
   "metadata": {},
   "outputs": [],
   "source": [
    "def sigmoid(x):\n",
    "    return 1 / (1 + np.exp(-x))\n",
    "\n",
    "def relu(x):\n",
    "    return np.maximum(0, x)\n",
    "\n",
    "def binary_cross_entripy(y_hat, y):\n",
    "    y_hat = np.clip(y_hat, 1e-8, 1 - 1e-8)\n",
    "    return 1/y.shape[0] * np.sum(-(y * np.log(y_hat) + (1 - y) * np.log(1 - y_hat)))"
   ]
  },
  {
   "cell_type": "code",
   "execution_count": 119,
   "metadata": {},
   "outputs": [],
   "source": [
    "weights1 = np.random.randn(5,x.shape[1], 3, 3)\n",
    "bias1 = np.random.randn(5)\n",
    "weights11 = np.random.randn(5,5, 2, 2)\n",
    "bias11 = np.random.randn(5)\n",
    "weights2 = np.random.randn(1, weights11.shape[0] * weights11.shape[2] * weights11.shape[3])\n",
    "bias2 = np.random.randn(1)\n",
    "\n",
    "z1 = conv(x, weights1, bias1)\n",
    "a1 = relu(z1)\n",
    "\n",
    "z11 = conv(a1, weights11, bias11)\n",
    "a11 = relu(z11)\n",
    "\n",
    "a11 = a11.reshape(a11.shape[0], -1)\n",
    "\n",
    "z2 = fc(a11, weights2, bias2)\n",
    "a2 = sigmoid(z2)"
   ]
  },
  {
   "cell_type": "code",
   "execution_count": 120,
   "metadata": {},
   "outputs": [
    {
     "data": {
      "text/plain": [
       "array([[0.99999817, 0.99999961, 1.        , 1.        , 0.99999817,\n",
       "        0.99999961, 1.        , 1.        , 0.99999817, 0.99999961]])"
      ]
     },
     "execution_count": 120,
     "metadata": {},
     "output_type": "execute_result"
    }
   ],
   "source": [
    "a2"
   ]
  },
  {
   "cell_type": "code",
   "execution_count": 121,
   "metadata": {},
   "outputs": [
    {
     "data": {
      "text/plain": [
       "7.36827295965319"
      ]
     },
     "execution_count": 121,
     "metadata": {},
     "output_type": "execute_result"
    }
   ],
   "source": [
    "binary_cross_entripy(a2, y)"
   ]
  },
  {
   "cell_type": "code",
   "execution_count": 122,
   "metadata": {},
   "outputs": [],
   "source": [
    "def conv_backprop(dz, weight):\n",
    "\n",
    "    out = dz.shape[2] - weight.shape[2] + 2*1 + 1\n",
    "\n",
    "    dinput = np.zeros((dz.shape[0], weight.shape[0], out, out))\n",
    "\n",
    "    flipped_weight = np.flip(weight, axis=(1,2))\n",
    "    \n",
    "    dzm = dz.reshape(1, dz.shape[0], dz.shape[1], dz.shape[2])\n",
    "    fwm = flipped_weight.reshape(1, flipped_weight.shape[0], flipped_weight.shape[1], flipped_weight.shape[2])\n",
    "    \n",
    "    res = conv(dzm, fwm, np.zeros((weight.shape[0])), padding=1)\n",
    "\n",
    "    # print(res.shape) 1 5 3 3\n",
    "\n",
    "    return res"
   ]
  },
  {
   "cell_type": "code",
   "execution_count": 123,
   "metadata": {},
   "outputs": [],
   "source": [
    "da2 = - y.T/a2 + (1 - y.T)/(1 - a2)\n",
    "dz2 = a2 * (1 - a2) * da2\n",
    "dweights2 = 1/y.shape[0] * np.dot(dz2, a11)\n",
    "dbias2 = 1/y.shape[0] * np.sum(dz2)\n",
    "\n",
    " \n",
    "da11 = np.dot(dz2.T,weights2)\n",
    "dz11 = da11 * np.where(a11 > 0, 1, 0)\n",
    "dz11 = dz11.reshape(z11.shape)\n",
    "\n",
    "dweights11 = np.zeros_like(weights11)\n",
    "dbias11 = np.zeros_like(bias11)\n",
    "\n",
    "for i in range(weights11.shape[0]):\n",
    "    for j in range(weights11.shape[1]):\n",
    "        dweights11[i, j] = np.mean(conv(a1[:, j].reshape(a1.shape[0], 1, a1.shape[2], a1.shape[3]), np.mean(dz11, axis=0)[i].reshape(1, 1, dz11.shape[2], dz11.shape[3]), np.ones_like(bias11)), axis=(0,1))\n",
    "    dbias11[i] = np.sum(dz11[:, i])\n",
    "\n",
    "\n",
    "da1 = np.zeros_like(a1)\n",
    "for j in range(da1.shape[0]):\n",
    "    for i in range(weights11.shape[0]): \n",
    "        da1[j, i] += conv_backprop(dz11[j], weights11[i])[0,0]\n",
    "\n",
    "dz1 = da1 * np.where(a1 > 0, 1, 0)\n",
    "dz1 = dz1.reshape(z1.shape)\n",
    "\n",
    "dweights1 = np.zeros_like(weights1)\n",
    "dbias1 = np.zeros_like(bias1)\n",
    "\n",
    "for i in range(weights1.shape[0]):\n",
    "    for j in range(weights1.shape[1]):\n",
    "        dweights1[i, j] = np.mean(conv(x[:, j].reshape(x.shape[0], 1, x.shape[2], x.shape[3]), np.mean(dz1, axis=0)[i].reshape(1, 1, dz1.shape[2], dz1.shape[3]), np.ones_like(bias1)), axis=(0,1))\n",
    "    dbias1[i] = np.sum(dz1[:, i])\n",
    "\n",
    "\n",
    "learning_rate = 0.001\n",
    "weights2 -= learning_rate * dweights2\n",
    "bias2 -= learning_rate * dbias2\n",
    "\n",
    "weights11 -= learning_rate * dweights11\n",
    "bias11 -= learning_rate * dbias11\n",
    "\n",
    "weights1 -= learning_rate * dweights1\n",
    "bias1 -= learning_rate * dbias1"
   ]
  },
  {
   "cell_type": "code",
   "execution_count": 129,
   "metadata": {},
   "outputs": [
    {
     "name": "stdout",
     "output_type": "stream",
     "text": [
      "5.836239001242696\n",
      "0.0001398882011188859\n",
      "5.4381677186775974e-05\n"
     ]
    }
   ],
   "source": [
    "weights1 = np.random.randn(8,x.shape[1], 3, 3)\n",
    "bias1 = np.random.randn(8)\n",
    "weights11 = np.random.randn(8,8, 2, 2)\n",
    "bias11 = np.random.randn(8)\n",
    "weights2 = np.random.randn(1, weights11.shape[0] * weights11.shape[2] * weights11.shape[3])\n",
    "bias2 = np.random.randn(1)\n",
    "\n",
    "for i in range(3000): \n",
    "\n",
    "    z1 = conv(x, weights1, bias1)\n",
    "    a1 = relu(z1)\n",
    "\n",
    "    z11 = conv(a1, weights11, bias11)\n",
    "    a11 = relu(z11)\n",
    "\n",
    "    a11 = a11.reshape(a11.shape[0], -1)\n",
    "\n",
    "    z2 = fc(a11, weights2, bias2)\n",
    "    a2 = sigmoid(z2)\n",
    "\n",
    "\n",
    "    if i % 1000 == 0:\n",
    "        print(binary_cross_entripy(a2, y))\n",
    "\n",
    "    learning_rate = 0.1\n",
    "\n",
    "\n",
    "    da2 = - y.T/a2 + (1 - y.T)/(1 - a2 + 1e-8)\n",
    "    dz2 = a2 * (1 - a2) * da2\n",
    "    dweights2 = 1/y.shape[0] * np.dot(dz2, a11)\n",
    "    dbias2 = 1/y.shape[0] * np.sum(dz2)\n",
    "\n",
    "    \n",
    "    da11 = np.dot(dz2.T,weights2)\n",
    "    dz11 = da11 * np.where(a11 > 0, 1, 0)\n",
    "    dz11 = dz11.reshape(z11.shape)\n",
    "\n",
    "    dweights11 = np.zeros_like(weights11)\n",
    "    dbias11 = np.zeros_like(bias11)\n",
    "\n",
    "    for i in range(weights11.shape[0]):\n",
    "        for j in range(weights11.shape[1]):\n",
    "            dweights11[i, j] = np.mean(conv(a1[:, j].reshape(a1.shape[0], 1, a1.shape[2], a1.shape[3]), np.mean(dz11, axis=0)[i].reshape(1, 1, dz11.shape[2], dz11.shape[3]), np.ones_like(bias11)), axis=(0,1))\n",
    "        dbias11[i] = np.sum(dz11[:, i])\n",
    "\n",
    "\n",
    "    da1 = np.zeros_like(a1)\n",
    "    for j in range(da1.shape[0]):\n",
    "        for i in range(weights11.shape[0]): \n",
    "            da1[j, i] += conv_backprop(dz11[j], weights11[i])[0,0]\n",
    "\n",
    "    dz1 = da1 * np.where(a1 > 0, 1, 0)\n",
    "    dz1 = dz1.reshape(z1.shape)\n",
    "\n",
    "    dweights1 = np.zeros_like(weights1)\n",
    "    dbias1 = np.zeros_like(bias1)\n",
    "\n",
    "    for i in range(weights1.shape[0]):\n",
    "        for j in range(weights1.shape[1]):\n",
    "            dweights1[i, j] = np.mean(conv(x[:, j].reshape(x.shape[0], 1, x.shape[2], x.shape[3]), np.mean(dz1, axis=0)[i].reshape(1, 1, dz1.shape[2], dz1.shape[3]), np.ones_like(bias1)), axis=(0,1))\n",
    "        dbias1[i] = np.sum(dz1[:, i])\n",
    " \n",
    "\n",
    "    weights2 -= learning_rate * dweights2\n",
    "    bias2 -= learning_rate * dbias2\n",
    "\n",
    "    weights11 -= learning_rate * dweights11\n",
    "    bias11 -= learning_rate * dbias11\n",
    "\n",
    "    weights1 -= learning_rate * dweights1\n",
    "    bias1 -= learning_rate * dbias1"
   ]
  },
  {
   "cell_type": "code",
   "execution_count": 130,
   "metadata": {},
   "outputs": [
    {
     "data": {
      "text/plain": [
       "array([[1., 1., 0., 0., 1., 1., 0., 0., 1., 1.]])"
      ]
     },
     "execution_count": 130,
     "metadata": {},
     "output_type": "execute_result"
    }
   ],
   "source": [
    "np.round(a2)"
   ]
  },
  {
   "cell_type": "code",
   "execution_count": 131,
   "metadata": {},
   "outputs": [
    {
     "data": {
      "text/plain": [
       "array([1., 1., 0., 0., 1., 1., 0., 0., 1., 1.])"
      ]
     },
     "execution_count": 131,
     "metadata": {},
     "output_type": "execute_result"
    }
   ],
   "source": [
    "y"
   ]
  }
 ],
 "metadata": {
  "kernelspec": {
   "display_name": "pytorchenv",
   "language": "python",
   "name": "python3"
  },
  "language_info": {
   "codemirror_mode": {
    "name": "ipython",
    "version": 3
   },
   "file_extension": ".py",
   "mimetype": "text/x-python",
   "name": "python",
   "nbconvert_exporter": "python",
   "pygments_lexer": "ipython3",
   "version": "3.12.3 | packaged by Anaconda, Inc. | (main, May  6 2024, 19:42:21) [MSC v.1916 64 bit (AMD64)]"
  },
  "orig_nbformat": 4,
  "vscode": {
   "interpreter": {
    "hash": "13d23e047223dc84a1102dc5c766dcad7992afc98d26331706d77d9a7e59ca18"
   }
  }
 },
 "nbformat": 4,
 "nbformat_minor": 2
}
